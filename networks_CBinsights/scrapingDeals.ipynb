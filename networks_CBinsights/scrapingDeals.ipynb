{
 "cells": [
  {
   "cell_type": "code",
   "execution_count": null,
   "metadata": {},
   "outputs": [],
   "source": [
    "import selenium\n",
    "from selenium import webdriver\n",
    "from bs4 import BeautifulSoup\n",
    "from webdriver_manager.chrome import ChromeDriverManager\n",
    "import pandas as pd\n",
    "from selenium.webdriver.common.keys import Keys\n",
    "from selenium.webdriver.common.by import By\n",
    "from selenium.webdriver.support.ui import WebDriverWait\n",
    "import requests"
   ]
  },
  {
   "cell_type": "code",
   "execution_count": null,
   "metadata": {},
   "outputs": [],
   "source": [
    "driver = webdriver.Chrome(ChromeDriverManager().install())"
   ]
  },
  {
   "cell_type": "code",
   "execution_count": null,
   "metadata": {},
   "outputs": [],
   "source": [
    "#at least a one-week premium account (available for free) is needed \n",
    "url = 'https://app.cbinsights.com/top-search/v5x4iv?companyView=table&investorView=table&isid=0-28a1a689-2186-3136-9fc5-87bb4adcfbe6&tab=companyDeal'"
   ]
  },
  {
   "cell_type": "code",
   "execution_count": null,
   "metadata": {},
   "outputs": [],
   "source": [
    "count=0\n",
    "count2=0\n",
    "z = []\n",
    "target_name=[]\n",
    "stage=[]\n",
    "size =[]\n",
    "date =[]\n",
    "investors_name =[]\n",
    "url = []\n",
    "description = []\n",
    "industry = []\n",
    "target_country = []\n",
    "target_collections =[]\n",
    "target_status =[]\n",
    "target_ID = []\n",
    "target_founded = []\n",
    "round_simp = []\n",
    "target_continent = []\n",
    "target_state = []\n",
    "target_city = []\n",
    "target_street = []\n",
    "target_people = []\n",
    "target_competitors = []\n"
   ]
  },
  {
   "cell_type": "code",
   "execution_count": null,
   "metadata": {},
   "outputs": [],
   "source": [
    "while count <= 110000:\n",
    "    while count2 < 10000:\n",
    "        z.append(driver.current_url)\n",
    "        content = driver.page_source\n",
    "        soup = BeautifulSoup(content)\n",
    "        tot=[]\n",
    "        for i in soup.findAll('div', attrs={'class':\"longHover-module__longhover___aEanB longHover-module__longhover--hidden___36Ol9\"}):\n",
    "            a=i.text\n",
    "            #print(a)\n",
    "            tot.append(a)\n",
    "        for i,j in enumerate(tot):\n",
    "            if i%20==0:\n",
    "                target_name.append(j)\n",
    "            if i%20==1:\n",
    "                stage.append(j)\n",
    "            if i%20==2:\n",
    "                size.append(j)\n",
    "            if i%20==3:\n",
    "                date.append(j)\n",
    "            if i%20==4:\n",
    "                investors_name.append(j)\n",
    "            if i%20==5:\n",
    "                url.append(j)\n",
    "            if i%20==6:\n",
    "                description.append(j)\n",
    "            if i%20==7:\n",
    "                industry.append(j)\n",
    "            if i%20==8:\n",
    "                target_country.append(j)\n",
    "            if i%20==9:\n",
    "                target_collections.append(j)\n",
    "            if i%20==10:\n",
    "                target_status.append(j)\n",
    "            if i%20==11:\n",
    "                target_ID.append(j)\n",
    "            if i%20==12:\n",
    "                target_founded.append(j)\n",
    "            if i%20==13:\n",
    "                round_simp.append(j)\n",
    "            if i%20==14:\n",
    "                target_continent.append(j)\n",
    "            if i%20==15:\n",
    "                target_state.append(j)\n",
    "            if i%20==16:\n",
    "                target_city.append(j)\n",
    "            if i%20==17:\n",
    "                target_street.append(j)\n",
    "            if i%20==18:\n",
    "                target_people.append(j)\n",
    "            elif i%20==19:\n",
    "                target_competitors.append(j)\n",
    "        element = driver.find_element_by_xpath(\"//div[@data-test='Pagebar-Next']\")\n",
    "        driver.execute_script(\"arguments[0].click();\", element)\n",
    "        count2+=25\n",
    "        while driver.current_url == z[-1]:\n",
    "            pass\n",
    "        else:\n",
    "            continue\n",
    "\n",
    "    element = driver.find_element_by_xpath(\"(//input[@name='START_INPUT'])[3]\")\n",
    "    element.click()\n",
    "    element.send_keys(Keys.CONTROL, 'a')\n",
    "    element.send_keys(date[-1])\n",
    "    count+=10000\n",
    "    count2=0\n",
    "    while driver.current_url == z[-1]:\n",
    "        pass\n",
    "    else:\n",
    "        continue\n",
    "    "
   ]
  },
  {
   "cell_type": "code",
   "execution_count": null,
   "metadata": {},
   "outputs": [],
   "source": [
    "deals = pd.DataFrame({'target_name':target_name,\n",
    "                      'stage':stage,\n",
    "                    'size':size,\n",
    "                    'date':date,\n",
    "                    'investors_name':investors_name,\n",
    "                    'url':url,\n",
    "                    'description':description,\n",
    "                    'industry':industry,\n",
    "                    'target_country':target_country,\n",
    "                    'target_collections':target_collections,\n",
    "                    'target_status':target_status,\n",
    "                    'target_ID':target_ID,\n",
    "                    'target_founded':target_founded,\n",
    "                    'round_simp':round_simp,\n",
    "                    'target_continent':target_continent,\n",
    "                    'target_state':target_state,\n",
    "                    'target_city':target_city,\n",
    "                     'target_street':target_street,\n",
    "                     'target_people':target_people,\n",
    "                     'target_competitors':target_competitors})"
   ]
  },
  {
   "cell_type": "code",
   "execution_count": null,
   "metadata": {},
   "outputs": [],
   "source": [
    "deals.to_csv(\"deals.csv\", index = False)"
   ]
  }
 ],
 "metadata": {
  "kernelspec": {
   "display_name": "Python 3",
   "language": "python",
   "name": "python3"
  },
  "language_info": {
   "codemirror_mode": {
    "name": "ipython",
    "version": 3
   },
   "file_extension": ".py",
   "mimetype": "text/x-python",
   "name": "python",
   "nbconvert_exporter": "python",
   "pygments_lexer": "ipython3",
   "version": "3.8.3"
  }
 },
 "nbformat": 4,
 "nbformat_minor": 4
}
